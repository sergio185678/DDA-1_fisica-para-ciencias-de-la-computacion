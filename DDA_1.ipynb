{
  "nbformat": 4,
  "nbformat_minor": 0,
  "metadata": {
    "colab": {
      "name": "DDA-1.ipynb",
      "provenance": [],
      "collapsed_sections": []
    },
    "kernelspec": {
      "name": "python3",
      "display_name": "Python 3"
    },
    "language_info": {
      "name": "python"
    }
  },
  "cells": [
    {
      "cell_type": "code",
      "metadata": {
        "colab": {
          "base_uri": "https://localhost:8080/",
          "height": 282
        },
        "id": "4GL3Sivxs73e",
        "outputId": "48a601c0-84dd-4e20-bd66-4f4123cf26a2"
      },
      "source": [
        "#con resistencia del aire\n",
        "import numpy as np\n",
        "import math\n",
        "import matplotlib.pyplot as plt\n",
        "\n",
        "fig, panel_1 = plt.subplots()\n",
        "panel_2=panel_1.twinx()\n",
        "\n",
        "v=[61]              #areglo de velocidad\n",
        "radio=(18)/100      #radio a metros\n",
        "Cd=0.5              #Coeficiente de resistencia\n",
        "masa=0.190          #masa\n",
        "angulo=math.radians(20)  #aca se cambia el angulo en grados : 20,30,..,70\n",
        "p=1.20              #Densidad del aire\n",
        "g=9.81              #gravedad\n",
        "vy=[]               #arreglo de velocidad en y\n",
        "vx=[]               #arreglo de velocidad en x\n",
        "ax=[]               #arreglo de la aceleracion en x\n",
        "ay=[]               #arreglo de la aceleracion en y\n",
        "posy=[0]            #la posicion de y en cada 0.05 segundos\n",
        "posx=[0]            #la posicion de x en cada 0.05 segundos\n",
        "\n",
        "vx.append(v[0]*math.cos(angulo))\n",
        "vy.append(v[0]*math.sin(angulo))\n",
        "##\n",
        "A=math.pi*(radio**2)\n",
        "##\n",
        "k=1/2*Cd*p*A\n",
        "###\n",
        "ax.append(-k*vx[0]/masa) \n",
        "ay.append((-(masa*g)-(k*vy[0]))/masa) \n",
        "###\n",
        "posx.append((vx[0]*0.05+1/2*ax[0]*(0.05**2))+posx[0])\n",
        "posy.append((vy[0]*0.05+1/2*ay[0]*(0.05**2))+posy[0])\n",
        "\n",
        "for i in range(3000):\n",
        "  if(posy[i+1]<0):\n",
        "    break\n",
        "  vx.append(vx[i]+ax[i]*0.05)\n",
        "  vy.append(vy[i]+ay[i]*0.05)\n",
        "  v.append(math.sqrt(vx[i+1]**2+vy[i+1]**2))\n",
        "  ax.append(-k*vx[i]/masa)\n",
        "  ay.append((-(masa*g)-(k*vy[i]))/masa)\n",
        "  posx.append((vx[i]*0.05+1/2*ax[i]*(0.05**2))+posx[i+1])\n",
        "  posy.append((vy[i]*0.05+1/2*ay[i]*(0.05**2))+posy[i+1])\n",
        "\n",
        "#######\n",
        "posx.pop()\n",
        "posy.pop()\n",
        "np_posx=np.array(posx)\n",
        "np_posy=np.array(posy)\n",
        "\n",
        "panel_1.plot(np_posx, np_posy)\n",
        "#################################################################\n",
        "#################################################################\n",
        "#sin resistencia del aire\n",
        "v2=[61]\n",
        "radio=(18)/100\n",
        "Cd=0.5\n",
        "masa=0.190\n",
        "angulo=math.radians(20) #aca se cambia el angulo en grados : 20,30,..,70\n",
        "p=1.20\n",
        "g=9.81\n",
        "vy2=[]\n",
        "vx2=[]\n",
        "ax2=[]\n",
        "ay2=[]\n",
        "posy2=[0]\n",
        "posx2=[0]\n",
        "\n",
        "vx2.append(v2[0]*math.cos(angulo))\n",
        "vy2.append(v2[0]*math.sin(angulo))\n",
        "##\n",
        "A=math.pi*(radio**2)\n",
        "##\n",
        "k=1/2*Cd*p*A\n",
        "###\n",
        "ax2.append(0) \n",
        "ay2.append(-g) \n",
        "###\n",
        "posx2.append((vx2[0]*0.05+1/2*ax2[0]*(0.05**2))+posx2[0])\n",
        "posy2.append((vy2[0]*0.05+1/2*ay2[0]*(0.05**2))+posy2[0])\n",
        "\n",
        "for i in range(3000):\n",
        "  if(posy2[i+1]<0):\n",
        "    break\n",
        "  vx2.append(vx2[i]+ax2[i]*0.05)\n",
        "  vy2.append(vy2[i]+ay2[i]*0.05)\n",
        "  v2.append(math.sqrt(vx2[i+1]**2+vy2[i+1]**2))\n",
        "  ax2.append(0)\n",
        "  ay2.append(-g)\n",
        "  posx2.append((vx2[i]*0.05+1/2*ax2[i]*(0.05**2))+posx2[i+1])\n",
        "  posy2.append((vy2[i]*0.05+1/2*ay2[i]*(0.05**2))+posy2[i+1])\n",
        "\n",
        "#######\n",
        "posx2.pop()\n",
        "posy2.pop()\n",
        "np_posx2=np.array(posx2)\n",
        "np_posy2=np.array(posy2)\n",
        "\n",
        "panel_2.plot(np_posx2, np_posy2,\"r\")\n",
        "\n"
      ],
      "execution_count": 1,
      "outputs": [
        {
          "output_type": "execute_result",
          "data": {
            "text/plain": [
              "[<matplotlib.lines.Line2D at 0x7f1850c2bc50>]"
            ]
          },
          "metadata": {},
          "execution_count": 1
        },
        {
          "output_type": "display_data",
          "data": {
            "image/png": "[encoded data removed]",
            "text/plain": [
              "<Figure size 432x288 with 2 Axes>"
            ]
          },
          "metadata": {
            "needs_background": "light"
          }
        }
      ]
    },
    {
      "cell_type": "markdown",
      "metadata": {
        "id": "ZfmoROFLvB1K"
      },
      "source": [
        "**CON RESISTENCIA DE AIRE**\n"
      ]
    },
    {
      "cell_type": "code",
      "metadata": {
        "colab": {
          "base_uri": "https://localhost:8080/",
          "height": 299
        },
        "id": "iBiQXHq6vIyU",
        "outputId": "63b8b3d4-8cbb-4965-c232-627c8f748ea5"
      },
      "source": [
        "import numpy as np\n",
        "import math\n",
        "import matplotlib.pyplot as plt\n",
        "\n",
        "fig, panel_1 = plt.subplots()\n",
        "\n",
        "v=[61]\n",
        "radio=(18)/100\n",
        "Cd=0.5\n",
        "masa=0.190\n",
        "angulo=math.radians(70) #aca se cambia el angulo en grados : 20,30,..,70\n",
        "p=1.20\n",
        "g=9.81\n",
        "vy=[]\n",
        "vx=[]\n",
        "ax=[]\n",
        "ay=[]\n",
        "posy=[0]\n",
        "posx=[0]\n",
        "\n",
        "vx.append(v[0]*math.cos(angulo))\n",
        "vy.append(v[0]*math.sin(angulo))\n",
        "##\n",
        "A=math.pi*(radio**2)\n",
        "##\n",
        "k=1/2*Cd*p*A\n",
        "###\n",
        "ax.append(-k*vx[0]/masa) \n",
        "ay.append((-(masa*g)-(k*vy[0]))/masa) \n",
        "###\n",
        "posx.append((vx[0]*0.05+1/2*ax[0]*(0.05**2))+posx[0])\n",
        "posy.append((vy[0]*0.05+1/2*ay[0]*(0.05**2))+posy[0])\n",
        "\n",
        "for i in range(3000):\n",
        "  if(posy[i+1]<0):\n",
        "    print(\"El alcance es: \",posx[i],\"m\")\n",
        "    break\n",
        "  vx.append(vx[i]+ax[i]*0.05)\n",
        "  vy.append(vy[i]+ay[i]*0.05)\n",
        "  v.append(math.sqrt(vx[i+1]**2+vy[i+1]**2))\n",
        "  ax.append(-k*vx[i]/masa)\n",
        "  ay.append((-(masa*g)-(k*vy[i]))/masa)\n",
        "  posx.append((vx[i]*0.05+1/2*ax[i]*(0.05**2))+posx[i+1])\n",
        "  posy.append((vy[i]*0.05+1/2*ay[i]*(0.05**2))+posy[i+1])\n",
        "\n",
        "#######\n",
        "posx.pop()\n",
        "posy.pop()\n",
        "np_posx=np.array(posx)\n",
        "np_posy=np.array(posy)\n",
        "\n",
        "panel_1.plot(np_posx, np_posy)"
      ],
      "execution_count": 13,
      "outputs": [
        {
          "output_type": "stream",
          "name": "stdout",
          "text": [
            "El alcance es:  101.2702316014382 m\n"
          ]
        },
        {
          "output_type": "execute_result",
          "data": {
            "text/plain": [
              "[<matplotlib.lines.Line2D at 0x7f18501b2090>]"
            ]
          },
          "metadata": {},
          "execution_count": 13
        },
        {
          "output_type": "display_data",
          "data": {
            "image/png": "[encoded data removed]",
            "text/plain": [
              "<Figure size 432x288 with 1 Axes>"
            ]
          },
          "metadata": {
            "needs_background": "light"
          }
        }
      ]
    },
    {
      "cell_type": "markdown",
      "metadata": {
        "id": "u618EEU6vVnM"
      },
      "source": [
        "**SIN RESISTENCIA DEL AIRE**"
      ]
    },
    {
      "cell_type": "code",
      "metadata": {
        "colab": {
          "base_uri": "https://localhost:8080/",
          "height": 282
        },
        "id": "a6lRpB4gvcfU",
        "outputId": "56053ca4-c898-40af-b547-dd6c25cd417b"
      },
      "source": [
        "import numpy as np\n",
        "import math\n",
        "import matplotlib.pyplot as plt\n",
        "\n",
        "fig, panel_2 = plt.subplots()\n",
        "\n",
        "v2=[61]\n",
        "radio=(18)/100\n",
        "Cd=0.5\n",
        "masa=0.190\n",
        "angulo=math.radians(20)#aca se cambia el angulo en grados : 20,30,..,70\n",
        "p=1.20\n",
        "g=9.81\n",
        "vy2=[]\n",
        "vx2=[]\n",
        "ax2=[]\n",
        "ay2=[]\n",
        "posy2=[0]\n",
        "posx2=[0]\n",
        "\n",
        "vx2.append(v2[0]*math.cos(angulo))\n",
        "vy2.append(v2[0]*math.sin(angulo))\n",
        "##\n",
        "A=math.pi*(radio**2)\n",
        "##\n",
        "k=1/2*Cd*p*A\n",
        "###\n",
        "ax2.append(0) \n",
        "ay2.append(-g) \n",
        "###\n",
        "posx2.append((vx2[0]*0.05+1/2*ax2[0]*(0.05**2))+posx2[0])\n",
        "posy2.append((vy2[0]*0.05+1/2*ay2[0]*(0.05**2))+posy2[0])\n",
        "\n",
        "for i in range(3000):\n",
        "  if(posy2[i+1]<0):\n",
        "    break\n",
        "  vx2.append(vx2[i]+ax2[i]*0.05)\n",
        "  vy2.append(vy2[i]+ay2[i]*0.05)\n",
        "  v2.append(math.sqrt(vx2[i+1]**2+vy2[i+1]**2))\n",
        "  ax2.append(0)\n",
        "  ay2.append(-g)\n",
        "  posx2.append((vx2[i]*0.05+1/2*ax2[i]*(0.05**2))+posx2[i+1])\n",
        "  posy2.append((vy2[i]*0.05+1/2*ay2[i]*(0.05**2))+posy2[i+1])\n",
        "\n",
        "#######\n",
        "posx2.pop()\n",
        "posy2.pop()\n",
        "np_posx2=np.array(posx2)\n",
        "np_posy2=np.array(posy2)\n",
        "\n",
        "panel_2.plot(np_posx2, np_posy2,\"r\")"
      ],
      "execution_count": 3,
      "outputs": [
        {
          "output_type": "execute_result",
          "data": {
            "text/plain": [
              "[<matplotlib.lines.Line2D at 0x7f1850640e90>]"
            ]
          },
          "metadata": {},
          "execution_count": 3
        },
        {
          "output_type": "display_data",
          "data": {
            "image/png": "[encoded data removed]",
            "text/plain": [
              "<Figure size 432x288 with 1 Axes>"
            ]
          },
          "metadata": {
            "needs_background": "light"
          }
        }
      ]
    },
    {
      "cell_type": "code",
      "metadata": {
        "id": "59cKcegu1JBt"
      },
      "source": [
        ""
      ],
      "execution_count": null,
      "outputs": []
    }
  ]
}